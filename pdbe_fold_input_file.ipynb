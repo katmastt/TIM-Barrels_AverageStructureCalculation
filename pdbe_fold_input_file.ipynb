{
 "cells": [
  {
   "cell_type": "code",
   "execution_count": 1,
   "metadata": {},
   "outputs": [
    {
     "name": "stdout",
     "output_type": "stream",
     "text": [
      "['4AAJ', '4WUI', '4WD0', '4RCX', '4W9T', '4PC8', '2V2D', '4X9S', '4X2R', '2Y88', '3ZS4', '3PVF', '4O57', '4TX9', '1IF2', '2V2C', '4O4W', '3QSR', '3QST', '4O4V', '4O52', '4O53', '4Y8F', '4O50', '4O54', '4MKN', '1K77', '1VFH', '2GUB', '1S5M']\n"
     ]
    }
   ],
   "source": [
    "import csv\n",
    " \n",
    "pdb_ids = []\n",
    "with open('pdb_ids_isomerase.txt', mode ='r') as file:\n",
    "    line = file.readline()\n",
    "    pdb_ids = line.split(\",\")\n",
    "print(pdb_ids)\n"
   ]
  },
  {
   "cell_type": "code",
   "execution_count": 2,
   "metadata": {},
   "outputs": [],
   "source": [
    "file = open(\"pdbefold_isomerase.txt\",\"w\")\n",
    "\n",
    "for id in pdb_ids: \n",
    "    file.write(id + \":A\\n\")\n",
    "\n",
    "file.close()"
   ]
  }
 ],
 "metadata": {
  "interpreter": {
   "hash": "df5c7b8ffaedf80dec2b70b09605990d7e0e1b6bc745b497330e86cbe58a738e"
  },
  "kernelspec": {
   "display_name": "Python 3",
   "language": "python",
   "name": "python3"
  },
  "language_info": {
   "codemirror_mode": {
    "name": "ipython",
    "version": 3
   },
   "file_extension": ".py",
   "mimetype": "text/x-python",
   "name": "python",
   "nbconvert_exporter": "python",
   "pygments_lexer": "ipython3",
   "version": "3.8.8"
  }
 },
 "nbformat": 4,
 "nbformat_minor": 2
}
