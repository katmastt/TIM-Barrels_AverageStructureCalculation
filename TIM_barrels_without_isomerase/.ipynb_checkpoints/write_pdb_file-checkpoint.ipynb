{
 "cells": [
  {
   "cell_type": "code",
   "execution_count": 1,
   "id": "dba3100c",
   "metadata": {},
   "outputs": [],
   "source": [
    "import numpy as np"
   ]
  },
  {
   "cell_type": "code",
   "execution_count": 2,
   "id": "77ce1f2d",
   "metadata": {},
   "outputs": [],
   "source": [
    "with open('average_structure_coordinates.txt', 'r') as file:\n",
    "    lines = file.readlines()\n",
    "    lines = [line.rstrip() for line in lines]\n",
    "\n",
    "coords = np.zeros((len(lines),3))\n",
    "for i in range(len(lines)):\n",
    "    ca = lines[i].split(' ')\n",
    "    ca = [round(float(coord),3) for coord in ca]\n",
    "    coords[i,:] = np.array(ca)"
   ]
  },
  {
   "cell_type": "code",
   "execution_count": 3,
   "id": "d6ce36b6",
   "metadata": {},
   "outputs": [],
   "source": [
    "with open('TIMB.pdb', 'w') as file:\n",
    "    for i in range(1, len(coords) + 1):\n",
    "        space1 = (7 - len(str(i)))*' '\n",
    "        space2 = (4 - len(str(i)))*' '\n",
    "        space3 = (12 - len(str(coords[i-1,0])))*' '\n",
    "        space4 = (8 - len(str(coords[i-1,1])))*' '\n",
    "        space5 = (8 - len(str(coords[i-1,2])))*' '\n",
    "        line = 'ATOM{}{}  CA  SER A{}{}{}{}{}{}{}{}  1.00 37.44           C  \\n'.format(space1,i,space2,i,space3,coords[i-1,0],space4,coords[i-1,1],space5,coords[i-1,2])\n",
    "        file.write(line)"
   ]
  },
  {
   "cell_type": "code",
   "execution_count": null,
   "id": "7909cc88",
   "metadata": {},
   "outputs": [],
   "source": []
  }
 ],
 "metadata": {
  "kernelspec": {
   "display_name": "Python 3",
   "language": "python",
   "name": "python3"
  },
  "language_info": {
   "codemirror_mode": {
    "name": "ipython",
    "version": 3
   },
   "file_extension": ".py",
   "mimetype": "text/x-python",
   "name": "python",
   "nbconvert_exporter": "python",
   "pygments_lexer": "ipython3",
   "version": "3.8.8"
  }
 },
 "nbformat": 4,
 "nbformat_minor": 5
}
